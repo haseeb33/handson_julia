{
 "cells": [
  {
   "cell_type": "markdown",
   "metadata": {},
   "source": [
    "# DocumentSet Class using mutable struct"
   ]
  },
  {
   "cell_type": "code",
   "execution_count": 1,
   "metadata": {},
   "outputs": [],
   "source": [
    "using StatsBase"
   ]
  },
  {
   "cell_type": "code",
   "execution_count": 3,
   "metadata": {},
   "outputs": [
    {
     "data": {
      "text/plain": [
       "DocumentSet"
      ]
     },
     "execution_count": 3,
     "metadata": {},
     "output_type": "execute_result"
    }
   ],
   "source": [
    "mutable struct DocumentSet\n",
    "    documents::Array\n",
    "    document_size::Int\n",
    "    vocab_count::Int\n",
    "    vocabulary::Dict{}\n",
    "    reverse_vocabulary::Array\n",
    "end\n",
    "\n",
    "function documentset_readData(path::String, documentset_obj::DocumentSet)\n",
    "    open(path) do file\n",
    "        for line in eachline(file)\n",
    "            documentset_addDocument(line, documentset_obj)\n",
    "        end\n",
    "    end\n",
    "end\n",
    "\n",
    "function documentset_readData(texts::Array, documentset_obj::DocumentSet)\n",
    "    for doc in texts\n",
    "        documentset_addDocument(doc)\n",
    "    end\n",
    "end\n",
    "\n",
    "function documentset_addDocument(line, documentset_obj::DocumentSet)\n",
    "    if isempty(line)\n",
    "        return nothing\n",
    "    end\n",
    "    words = split(line)\n",
    "    codes = []\n",
    "    for i in words\n",
    "        if haskey(documentset_obj.vocabulary, i)\n",
    "            push!(codes, documentset_obj.vocabulary[i])\n",
    "        else \n",
    "            documentset_obj.vocab_count+=1\n",
    "            documentset_obj.vocabulary[i] = documentset_obj.vocab_count\n",
    "            push!(documentset_obj.reverse_vocabulary, i)\n",
    "            push!(codes, documentset_obj.vocab_count)\n",
    "        end\n",
    "    end\n",
    "    push!(documentset_obj.documents, codes)\n",
    "    documentset_obj.document_size+=1\n",
    "end\n",
    "\n",
    "function documentset_transform(line, documentset_obj::DocumentSet)\n",
    "    words = split(line)\n",
    "    codes = []\n",
    "    for i in words\n",
    "        code = get(documentset_obj.vocabulary, i, -1)\n",
    "        if code != -1\n",
    "            push!(codes, code)\n",
    "        end  \n",
    "    end\n",
    "    return sort(codes)\n",
    "end\n",
    "\n",
    "function documentset_sampleDocuments(numDocs, documentset_obj::DocumentSet)\n",
    "    subD = sample(documentset_obj.documents, numDocs, replace = false)\n",
    "    return subD  \n",
    "end\n",
    "\n",
    "function documentset_OnlinesampleDocuments(numDocs, iter, documentset_obj::DocumentSet)\n",
    "    subD = documentset_obj.documents[(iter-1)*numDocs+1: (iter)*numDocs]\n",
    "    return subD\n",
    "end\n",
    "\n",
    "function documentset_getTermFreq(documentset_obj::DocumentSet)\n",
    "    tf = [0 for i=1:documentset_obj.vocab_count]\n",
    "    for doc in documentset_obj.documents\n",
    "        for w in doc\n",
    "            tf[w]+=1 \n",
    "        end\n",
    "    end\n",
    "    return tf\n",
    "end\n",
    "\n",
    "DocumentSet() = DocumentSet([],0, 0, Dict(), [])"
   ]
  },
  {
   "cell_type": "markdown",
   "metadata": {},
   "source": [
    "## Class call and using data"
   ]
  },
  {
   "cell_type": "code",
   "execution_count": 12,
   "metadata": {},
   "outputs": [
    {
     "data": {
      "text/plain": [
       "11"
      ]
     },
     "execution_count": 12,
     "metadata": {},
     "output_type": "execute_result"
    }
   ],
   "source": [
    "global corpus = DocumentSet()\n",
    "documentset_readData(\"dummy.txt\", corpus) #Or use readData(readlines(\"dummy.txt\"), corpus)\n",
    "V = size(corpus.reverse_vocabulary)[1]"
   ]
  },
  {
   "cell_type": "markdown",
   "metadata": {},
   "source": [
    "## Extra function testing"
   ]
  },
  {
   "cell_type": "code",
   "execution_count": 5,
   "metadata": {
    "collapsed": true,
    "jupyter": {
     "outputs_hidden": true
    }
   },
   "outputs": [
    {
     "name": "stdout",
     "output_type": "stream",
     "text": [
      "Total docs: 5\n"
     ]
    }
   ],
   "source": [
    "println(\"Total docs: $(corpus.document_size)\")"
   ]
  },
  {
   "cell_type": "code",
   "execution_count": 6,
   "metadata": {
    "collapsed": true,
    "jupyter": {
     "outputs_hidden": true
    }
   },
   "outputs": [
    {
     "name": "stdout",
     "output_type": "stream",
     "text": [
      "Any[\"This\", \"is\", \"dummy\", \"line\", \"number\", \"1\", \"numebr\", \"2\", \"3\", \"4th\", \"5th\"]\n",
      "[3, 3, 5, 5, 1, 1, 2, 1, 1, 1, 1]\n"
     ]
    }
   ],
   "source": [
    "println(corpus.reverse_vocabulary)\n",
    "println(documentset_getTermFreq(corpus))"
   ]
  },
  {
   "cell_type": "code",
   "execution_count": 7,
   "metadata": {
    "collapsed": true,
    "jupyter": {
     "outputs_hidden": true
    }
   },
   "outputs": [
    {
     "data": {
      "text/plain": [
       "5-element Array{Any,1}:\n",
       " Any[1, 2, 3, 4, 5, 6]\n",
       " Any[1, 2, 3, 4, 7, 8]\n",
       " Any[1, 2, 3, 4, 7, 9]\n",
       " Any[10, 3, 4]\n",
       " Any[11, 3, 4]"
      ]
     },
     "execution_count": 7,
     "metadata": {},
     "output_type": "execute_result"
    }
   ],
   "source": [
    "corpus.documents"
   ]
  },
  {
   "cell_type": "code",
   "execution_count": 8,
   "metadata": {
    "collapsed": true,
    "jupyter": {
     "outputs_hidden": true
    }
   },
   "outputs": [
    {
     "data": {
      "text/plain": [
       "Dict{Any,Any} with 11 entries:\n",
       "  \"numebr\" => 7\n",
       "  \"number\" => 5\n",
       "  \"1\"      => 6\n",
       "  \"is\"     => 2\n",
       "  \"2\"      => 8\n",
       "  \"dummy\"  => 3\n",
       "  \"5th\"    => 11\n",
       "  \"line\"   => 4\n",
       "  \"This\"   => 1\n",
       "  \"4th\"    => 10\n",
       "  \"3\"      => 9"
      ]
     },
     "execution_count": 8,
     "metadata": {},
     "output_type": "execute_result"
    }
   ],
   "source": [
    "corpus.vocabulary"
   ]
  },
  {
   "cell_type": "code",
   "execution_count": 9,
   "metadata": {
    "collapsed": true,
    "jupyter": {
     "outputs_hidden": true
    }
   },
   "outputs": [
    {
     "data": {
      "text/plain": [
       "3-element Array{Any,1}:\n",
       "  3\n",
       "  4\n",
       " 11"
      ]
     },
     "execution_count": 9,
     "metadata": {},
     "output_type": "execute_result"
    }
   ],
   "source": [
    "documentset_transform(\"5th dummy line\", corpus)"
   ]
  },
  {
   "cell_type": "code",
   "execution_count": 10,
   "metadata": {
    "collapsed": true,
    "jupyter": {
     "outputs_hidden": true
    }
   },
   "outputs": [
    {
     "data": {
      "text/plain": [
       "1-element Array{Any,1}:\n",
       " Any[11, 3, 4]"
      ]
     },
     "execution_count": 10,
     "metadata": {},
     "output_type": "execute_result"
    }
   ],
   "source": [
    "documentset_OnlinesampleDocuments(1,5, corpus)"
   ]
  },
  {
   "cell_type": "markdown",
   "metadata": {},
   "source": [
    "# SymmetricDirichlet Class(not extending Dirichlet) using struct"
   ]
  },
  {
   "cell_type": "code",
   "execution_count": 13,
   "metadata": {},
   "outputs": [
    {
     "data": {
      "text/plain": [
       "SymmetricDirichlet"
      ]
     },
     "execution_count": 13,
     "metadata": {},
     "output_type": "execute_result"
    }
   ],
   "source": [
    "struct SymmetricDirichlet\n",
    "    K::Int16\n",
    "    alpha::Float16\n",
    "    sumAlpha::Float16\n",
    "end\n",
    "\n",
    "SymmetricDirichlet(K, a) = SymmetricDirichlet(K, a, K*a)"
   ]
  },
  {
   "cell_type": "markdown",
   "metadata": {},
   "source": [
    "## Class call"
   ]
  },
  {
   "cell_type": "code",
   "execution_count": 15,
   "metadata": {},
   "outputs": [
    {
     "data": {
      "text/plain": [
       "SymmetricDirichlet(11, Float16(0.01), Float16(0.11))"
      ]
     },
     "execution_count": 15,
     "metadata": {},
     "output_type": "execute_result"
    }
   ],
   "source": [
    "M=100\n",
    "alpha = [0.01 for i in 1:M];\n",
    "wordPrior = SymmetricDirichlet(V,0.01)"
   ]
  },
  {
   "cell_type": "markdown",
   "metadata": {},
   "source": [
    "# Dirichlet Class using mutable struct"
   ]
  },
  {
   "cell_type": "code",
   "execution_count": 16,
   "metadata": {},
   "outputs": [
    {
     "data": {
      "text/plain": [
       "Dirichlet"
      ]
     },
     "execution_count": 16,
     "metadata": {},
     "output_type": "execute_result"
    }
   ],
   "source": [
    "global MINIMUM_PARAM = 10E-200\n",
    "\n",
    "mutable struct Dirichlet\n",
    "    K::Int16\n",
    "    alpha::Array{Float16}\n",
    "    sumAlpha::Float16\n",
    "end\n",
    "\n",
    "function dirichlet_optimizeParam(Ck, ndkMax, C_, ndMax, numIteration, dirichlet_obj::Dirichlet)\n",
    "    function digammaRecurrence(nMax, C, z)\n",
    "        if z==0\n",
    "            return 0\n",
    "        end\n",
    "        \n",
    "        R=0; S=0;\n",
    "        for n in 1:nMax\n",
    "            R+= 1 / (n-1+z)\n",
    "            S+= C[n]*R\n",
    "        end\n",
    "        return S\n",
    "    end\n",
    "            \n",
    "    for i in 1:numIteration\n",
    "        demon = digammaRecurrence(ndMax, C_, dirichlet_obj.sumAlpha)\n",
    "        \n",
    "        for k in 1:dirichlet_obj.K\n",
    "            numer = digammaRecurrence(ndkMax[k], Ck[k], alpha[k])\n",
    "            dirichlet_obj.alpha[k] *= (numer/demon)\n",
    "            dirichlet_obj.alpha[k] = max(dirichlet_obj.alpha[k], MINIMUM_PARAM)\n",
    "        end\n",
    "        dirichlet_obj.sumAlpha = sum(dirichlet_obj.alpha)\n",
    "    end\n",
    "end\n",
    "\n",
    "function dirichlet_set(param, dirichlet_obj::Dirichlet)\n",
    "    for k in 1:dirichlet_obj.K\n",
    "        dirichlet_obj.alpha[k] = param[k] > MINIMUM_PARAM ? param[k] : MINIMUM_PARAM\n",
    "    end\n",
    "end\n",
    "\n",
    "Dirichlet(param) = Dirichlet(size(param)[1], param, sum(param))"
   ]
  },
  {
   "cell_type": "markdown",
   "metadata": {},
   "source": [
    "## Function call"
   ]
  },
  {
   "cell_type": "code",
   "execution_count": 17,
   "metadata": {},
   "outputs": [],
   "source": [
    "topicPrior = Dirichlet(alpha);"
   ]
  },
  {
   "cell_type": "markdown",
   "metadata": {},
   "source": [
    "# Class Polya using mutable struct"
   ]
  },
  {
   "cell_type": "code",
   "execution_count": 21,
   "metadata": {},
   "outputs": [
    {
     "data": {
      "text/plain": [
       "Polya"
      ]
     },
     "execution_count": 21,
     "metadata": {},
     "output_type": "execute_result"
    }
   ],
   "source": [
    "mutable struct Polya\n",
    "    K::Int16\n",
    "    dir::Dirichlet\n",
    "    n::Array{Int16}\n",
    "    N::Int16\n",
    "end\n",
    "\n",
    "function polya_p(x::Int, polya_obj::Polya)\n",
    "    return (polya_obj.n[x]+polya_obj.dir.alpha[x]) / (polya_obj.N+polya_obj.dir.sumAlpha)\n",
    "end\n",
    "\n",
    "function polya_p(X::Array, polya_obj::Polya)\n",
    "    p = 1.0\n",
    "    for x in X\n",
    "        p*= polya_p(x, polya_obj)\n",
    "        polya_observe(x, polya_obj)\n",
    "    end\n",
    "    for x in X\n",
    "        polya_forget(x, polya_obj)\n",
    "    end\n",
    "end\n",
    "  \n",
    "function polya_observe(x, polya_obj::Polya)\n",
    "    polya_obj.n[x]+=1\n",
    "    polya_obj.N+=1  \n",
    "end\n",
    "\n",
    "function polya_observe(X::Array, polya_obj::Polya)\n",
    "    for x in X\n",
    "        polya_observe(x, polya_obj)\n",
    "    end\n",
    "end\n",
    "\n",
    "function polya_forget(x, polya_obj::Polya)\n",
    "    polya_obj.n[x] -= 1\n",
    "    polya_obj.N -= 1\n",
    "end\n",
    "\n",
    "function polya_forget(X::Array, polya_obj::Polya)\n",
    "    for x in X\n",
    "        polya_forget(x, polya_obj)\n",
    "    end\n",
    "end\n",
    "\n",
    "function polya_getCount(k, polya_obj::Polya)\n",
    "    return polya_obj.n[k]\n",
    "end\n",
    "\n",
    "Polya(param::Dirichlet) = Polya(param.K, param, [0 for i in 1:param.K], 0)"
   ]
  },
  {
   "cell_type": "code",
   "execution_count": 22,
   "metadata": {},
   "outputs": [
    {
     "data": {
      "text/plain": [
       "Sampler_sample (generic function with 1 method)"
      ]
     },
     "execution_count": 22,
     "metadata": {},
     "output_type": "execute_result"
    }
   ],
   "source": [
    "function Sampler_sample(p)\n",
    "    u = rand()*sum(p)\n",
    "    for i in 1:size(p)\n",
    "        if u<=p[i]\n",
    "            return i\n",
    "        end\n",
    "        u-=p[i]\n",
    "    end\n",
    "    return size(p)\n",
    "end"
   ]
  },
  {
   "cell_type": "markdown",
   "metadata": {},
   "source": [
    "# Class LDA using mutable struct"
   ]
  },
  {
   "cell_type": "code",
   "execution_count": 24,
   "metadata": {},
   "outputs": [
    {
     "data": {
      "text/plain": [
       "lda_sample (generic function with 1 method)"
      ]
     },
     "execution_count": 24,
     "metadata": {},
     "output_type": "execute_result"
    }
   ],
   "source": [
    "mutable struct LDA\n",
    "    numIteration::Int16\n",
    "    M::Int16\n",
    "    topicDir::Dirichlet\n",
    "    wordPolya::Array{Polya}\n",
    "    X::Array\n",
    "    topicPolya::Array{Polya}\n",
    "end\n",
    "\n",
    "function lda_sample(docs, lda_obj::LDA)\n",
    "    lda_obj.X = docs\n",
    "    D = size(docs)\n",
    "    #lda_obj.topicPolya =  Polya[D]   not sure how can i make it happen\n",
    "    ndMax = Int(floor( maximum([size(doc) for doc in docs]) ))\n",
    "    \n",
    "    C_ = [0 for i in ndMax]\n",
    "    for d in 1:D\n",
    "        C_[size(docs[d])]+=1\n",
    "    end\n",
    "    \n",
    "    samples = [[] for i=1:D]\n",
    "    for d in 1:D\n",
    "        Nd = size(docs[d])\n",
    "        \n",
    "        push!(samples, [0 for i in 1:Nd])\n",
    "        push!(lda_obj.topicPolya, Polya(lda_obj.topicDir))\n",
    "        \n",
    "        temp = []\n",
    "        for i in 1:Nd\n",
    "            randomSample = rand(1:lda_obj.M)\n",
    "            push!(temp, randomSample)\n",
    "            lda_addSample(d, i, randomSample)\n",
    "        end\n",
    "        samples[d] = temp\n",
    "    end\n",
    "    \n",
    "    for iteration in 1:lda_obj.numIteration\n",
    "        for d in 1:D\n",
    "            Nd = size(docs[d])\n",
    "            for i in 1:Nd\n",
    "                lda_removeSample(d, i, samples[d][i])\n",
    "                samples[d][i] = Sampler_sample(lda_posterior(d, i))\n",
    "                lda_addSample(d, i, samples[d][i])\n",
    "            end\n",
    "        end\n",
    "        \n",
    "        ndkMax = [1 for i in 1:lda_obj.M]\n",
    "        Ck = [[0 for i in 1:M] for i in 1:ndMax+1]\n",
    "        for m in 1:M\n",
    "            for d in 1:D\n",
    "                ndk = lda_obj.topicPolya[d].polya_getCount(m, lda_obj.topicPolya[d])\n",
    "                Ck[m][ndk]+=1\n",
    "                ndkMax[m] = max(ndkMax[m], ndk)\n",
    "            end\n",
    "        end\n",
    "        lda_obj.topicDir.dirichlet_optimizeParam(Ck, ndkMax, C_, ndMax, 20, lda_obj.topicDir)\n",
    "    end\n",
    "    return samples\n",
    "end\n",
    "\n",
    "#LDA(topicPrior::Dirichlet, wordPrior::Dirichlet) = LDA(100, topicPrior.K, topicPrior, "
   ]
  },
  {
   "cell_type": "code",
   "execution_count": null,
   "metadata": {},
   "outputs": [],
   "source": []
  },
  {
   "cell_type": "code",
   "execution_count": null,
   "metadata": {},
   "outputs": [],
   "source": []
  },
  {
   "cell_type": "markdown",
   "metadata": {},
   "source": []
  }
 ],
 "metadata": {
  "kernelspec": {
   "display_name": "Julia 1.5.2",
   "language": "julia",
   "name": "julia-1.5"
  },
  "language_info": {
   "file_extension": ".jl",
   "mimetype": "application/julia",
   "name": "julia",
   "version": "1.5.2"
  }
 },
 "nbformat": 4,
 "nbformat_minor": 4
}
