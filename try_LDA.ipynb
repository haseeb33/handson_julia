{
 "cells": [
  {
   "cell_type": "markdown",
   "metadata": {},
   "source": [
    "# DocumentSet Class using mutable struct"
   ]
  },
  {
   "cell_type": "code",
   "execution_count": 11,
   "metadata": {},
   "outputs": [
    {
     "data": {
      "text/plain": [
       "DocumentSet(Any[], 0, 0, Dict{Any,Any}())"
      ]
     },
     "execution_count": 11,
     "metadata": {},
     "output_type": "execute_result"
    }
   ],
   "source": [
    "function readFromFile(path::String)\n",
    "    open(path) do file\n",
    "        for line in eachline(file)\n",
    "                addDocument(line)\n",
    "        end\n",
    "    end\n",
    "end\n",
    "\n",
    "function addDocument(line)\n",
    "    if isempty(line)\n",
    "        return nothing\n",
    "    end\n",
    "    words = split(line)\n",
    "    println(words)\n",
    "    codes = []\n",
    "    for i in words\n",
    "        if haskey(ds.vocabulary, i)\n",
    "            push!(codes, ds.vocabulary[i])\n",
    "        else \n",
    "            ds.vocab_count+=1\n",
    "            ds.vocabulary[i] = ds.vocab_count\n",
    "            push!(codes, ds.vocab_count)\n",
    "        end\n",
    "    end\n",
    "    push!(ds.documents, codes)\n",
    "    ds.document_size+=1\n",
    "end\n",
    "  \n",
    "function getTermFreq()\n",
    "    tf = [0 for i=1:ds.vocab_count]\n",
    "    for doc in ds.documents\n",
    "        for w in doc\n",
    "            tf[w]+=1 \n",
    "        end\n",
    "    end\n",
    "    return tf\n",
    "end\n",
    "    \n",
    "mutable struct DocumentSet\n",
    "    documents::Array\n",
    "    document_size::Int\n",
    "    vocab_count::Int\n",
    "    vocabulary::Dict{}            \n",
    "end\n",
    "\n",
    "DocumentSet() = DocumentSet([],0, 0, Dict())\n",
    "global ds = DocumentSet()"
   ]
  },
  {
   "cell_type": "code",
   "execution_count": 12,
   "metadata": {},
   "outputs": [
    {
     "name": "stdout",
     "output_type": "stream",
     "text": [
      "SubString{String}[\"This\", \"is\", \"dummy\", \"line\", \"number\", \"1\"]\n",
      "SubString{String}[\"This\", \"is\", \"dummy\", \"line\", \"numebr\", \"2\"]\n",
      "SubString{String}[\"This\", \"is\", \"dummy\", \"line\", \"numebr\", \"3\"]\n",
      "SubString{String}[\"4th\", \"dummy\", \"line\"]\n",
      "SubString{String}[\"5th\", \"dummy\", \"line\"]\n"
     ]
    }
   ],
   "source": [
    "readFromFile(\"dummy.txt\")"
   ]
  },
  {
   "cell_type": "code",
   "execution_count": 13,
   "metadata": {},
   "outputs": [
    {
     "data": {
      "text/plain": [
       "11"
      ]
     },
     "execution_count": 13,
     "metadata": {},
     "output_type": "execute_result"
    }
   ],
   "source": [
    "ds.vocab_count"
   ]
  },
  {
   "cell_type": "code",
   "execution_count": 16,
   "metadata": {},
   "outputs": [
    {
     "name": "stdout",
     "output_type": "stream",
     "text": [
      "[3, 3, 5, 5, 1, 1, 2, 1, 1, 1, 1]\n"
     ]
    }
   ],
   "source": [
    "println(getTermFreq())"
   ]
  },
  {
   "cell_type": "code",
   "execution_count": 15,
   "metadata": {},
   "outputs": [
    {
     "data": {
      "text/plain": [
       "5-element Array{Any,1}:\n",
       " Any[1, 2, 3, 4, 5, 6]\n",
       " Any[1, 2, 3, 4, 7, 8]\n",
       " Any[1, 2, 3, 4, 7, 9]\n",
       " Any[10, 3, 4]\n",
       " Any[11, 3, 4]"
      ]
     },
     "execution_count": 15,
     "metadata": {},
     "output_type": "execute_result"
    }
   ],
   "source": [
    "ds.documents"
   ]
  },
  {
   "cell_type": "code",
   "execution_count": 2,
   "metadata": {},
   "outputs": [],
   "source": []
  },
  {
   "cell_type": "code",
   "execution_count": null,
   "metadata": {},
   "outputs": [],
   "source": []
  },
  {
   "cell_type": "code",
   "execution_count": null,
   "metadata": {},
   "outputs": [],
   "source": []
  },
  {
   "cell_type": "code",
   "execution_count": null,
   "metadata": {},
   "outputs": [],
   "source": []
  },
  {
   "cell_type": "code",
   "execution_count": null,
   "metadata": {},
   "outputs": [],
   "source": []
  },
  {
   "cell_type": "code",
   "execution_count": null,
   "metadata": {},
   "outputs": [],
   "source": []
  },
  {
   "cell_type": "code",
   "execution_count": null,
   "metadata": {},
   "outputs": [],
   "source": []
  },
  {
   "cell_type": "code",
   "execution_count": 13,
   "metadata": {},
   "outputs": [
    {
     "data": {
      "text/plain": [
       "Dict{String,Int64} with 3 entries:\n",
       "  \"c\" => 3\n",
       "  \"b\" => 2\n",
       "  \"a\" => 1"
      ]
     },
     "execution_count": 13,
     "metadata": {},
     "output_type": "execute_result"
    }
   ],
   "source": [
    "a = Dict(\"a\"=>1, \"b\"=>2, \"c\"=>3)"
   ]
  },
  {
   "cell_type": "code",
   "execution_count": 23,
   "metadata": {},
   "outputs": [
    {
     "data": {
      "text/plain": [
       "3-element Array{Pair{String,Int64},1}:\n",
       " \"c\" => 3\n",
       " \"b\" => 2\n",
       " \"a\" => 1"
      ]
     },
     "execution_count": 23,
     "metadata": {},
     "output_type": "execute_result"
    }
   ],
   "source": [
    "collect(a)"
   ]
  },
  {
   "cell_type": "code",
   "execution_count": 25,
   "metadata": {},
   "outputs": [
    {
     "data": {
      "text/plain": [
       "3"
      ]
     },
     "execution_count": 25,
     "metadata": {},
     "output_type": "execute_result"
    }
   ],
   "source": [
    "size(collect(a))[1]"
   ]
  },
  {
   "cell_type": "code",
   "execution_count": null,
   "metadata": {},
   "outputs": [],
   "source": [
    "haskey(mydict, \"One\")   "
   ]
  }
 ],
 "metadata": {
  "kernelspec": {
   "display_name": "Julia 1.5.2",
   "language": "julia",
   "name": "julia-1.5"
  },
  "language_info": {
   "file_extension": ".jl",
   "mimetype": "application/julia",
   "name": "julia",
   "version": "1.5.2"
  }
 },
 "nbformat": 4,
 "nbformat_minor": 4
}
